{
  "cells": [
    {
      "cell_type": "markdown",
      "metadata": {
        "id": "view-in-github",
        "colab_type": "text"
      },
      "source": [
        "<a href=\"https://colab.research.google.com/github/dbtronics/COMP551---Miniproject-3-Classification-of-Image-Data-/blob/main/Group_18_Miniproject_3.ipynb\" target=\"_parent\"><img src=\"https://colab.research.google.com/assets/colab-badge.svg\" alt=\"Open In Colab\"/></a>"
      ]
    },
    {
      "cell_type": "code",
      "execution_count": 10,
      "metadata": {
        "id": "MskdeYqoN1C9"
      },
      "outputs": [],
      "source": [
        "import tensorflow as tf\n",
        "import numpy as np\n",
        "import matplotlib.pyplot as plt\n",
        "from sklearn.linear_model import LogisticRegression\n",
        "import math\n",
        "import pdb"
      ]
    },
    {
      "cell_type": "markdown",
      "metadata": {
        "id": "ccnXMmu82Kfc"
      },
      "source": [
        "# MLP\n",
        "Multilayer Perceptron Implementation\n",
        "\n",
        "Implemention will take batch or individual sample units. It can be used with SGD or mini-batch SGD or batch GD\n",
        "\n",
        "Assumes that all hidden layers have the SAME neurons"
      ]
    },
    {
      "cell_type": "code",
      "execution_count": 22,
      "metadata": {
        "id": "Wmtl4tPwduk6"
      },
      "outputs": [],
      "source": [
        "class MLP:\n",
        "  def __init__ (self, input_neurons, output_neurons, hidden_layer=1,\n",
        "               hidden_neurons=128,learning_rate=1e-2, activation=\"sigmoid\"):\n",
        "    # self.epochs = epochs\n",
        "    self.hidden_layer = hidden_layer\n",
        "    self.input_neurons = input_neurons\n",
        "    self.hidden_neurons = hidden_neurons\n",
        "    self.output_neurons = output_neurons\n",
        "    # self.batch_size = batch_size # decides on mini/batch stochastic gradiant descent\n",
        "    self.learning_rate = learning_rate\n",
        "    # self.epsilon = epsilon\n",
        "    self.activation = activation # decides on sigmoid, relu, leaky-relu, tanh activation\n",
        "    # no. of weights dependent on hidden_layers\n",
        "    self.weights = self.init_weights(self.hidden_layer) \n",
        "\n",
        "  def init_weights(self, hidden_layer):\n",
        "    if(hidden_layer==0):\n",
        "      w = np.random.randn(self.input_neurons, self.output_neurons) * np.sqrt(1./self.output_neurons)\n",
        "      return np.asarray([w])\n",
        "    elif (hidden_layer==1):\n",
        "      v = np.random.randn(self.input_neurons, self.hidden_neurons) * np.sqrt(1./self.hidden_neurons)\n",
        "      w = np.random.randn(self.hidden_neurons, self.output_neurons) * np.sqrt(1./self.output_neurons)\n",
        "      return np.asarray([v,w])\n",
        "    elif (hidden_layer==2):\n",
        "      v = np.random.randn(self.input_neurons, self.hidden_neurons) * np.sqrt(1./self.hidden_neurons)\n",
        "      r = np.random.randn(self.hidden_neurons, self.hidden_neurons) * np.sqrt(1./self.hidden_neurons)\n",
        "      w = np.random.randn(self.hidden_neurons, self.output_neurons) * np.sqrt(1./self.output_neurons)\n",
        "      return np.asarray([v,r,w])\n",
        "    else:\n",
        "      print(\"# of hidden layer should be <= 2\")\n",
        "      return None\n",
        "\n",
        "  def fit(self, x_train, y_train, batch_size, epochs=1e3, epsilon=1e-2,): # add batchsize here rather than in __init__\n",
        "    y_class = np.zeros((y_train.shape[0], np.max(y_train)+1))\n",
        "    for i in range(y_train.shape[0]): y_class[i,y_train[i]] = 1\n",
        "\n",
        "    batch_runs = math.ceil(y_train.shape[0]/batch_size)\n",
        "    \n",
        "    norm = np.array([np.inf])\n",
        "    t=0\n",
        "    while(np.any(norm>epsilon) and t<epochs):\n",
        "      # pdb.set_trace()\n",
        "      for batch_index in range(batch_runs): # batch_runs decides if it is mini-batch, stochastic or batch GD\n",
        "        start = batch_index*batch_size\n",
        "        end = (batch_index+1)*batch_size\n",
        "        x_train_batch = x_train[start:end] if end<=y_train.shape[0] else x_train[start:]\n",
        "        y_train_batch = y_class[start:end] if end<=y_train.shape[0] else y_class[start:] # N x C\n",
        "        y_train_label_batch = y_train[start:end] if end<=y_train.shape[0] else y_train[start:] # N\n",
        "        # print(x_train.shape)\n",
        "        # print(x_train_batch.shape)\n",
        "        yh = self.forward_pass(x_train_batch)\n",
        "        dweights = self.back_prop(yh, y_train_batch)\n",
        "        self.update_weights(np.asarray(dweights))\n",
        "      # yh = self.forward_pass(x_train)\n",
        "      # dweights = self.back_prop(yh, y_class)\n",
        "      # self.update_weights(np.asarray(dweights))\n",
        "\n",
        "      # takes into account of 0 layer\n",
        "      norm = [np.linalg.norm(dweights)] if len(dweights)==1 else [np.linalg.norm(g) for g in dweights]\n",
        "      norm = np.array(norm)\n",
        "      # norm = [np.linalg.norm(g) for g in dweights]\n",
        "      # print(\"Epoch: \", t, \" with accuracy of: \", self.eval_acc(np.argmax(yh, axis=-1), y_train))\n",
        "      # print(\"Norm: \", norm)\n",
        "      t+=1\n",
        "\n",
        "  def activation_function(self, z, derivative=False):\n",
        "    if(self.activation==\"sigmoid\"):\n",
        "      return sigmoid(z)*(1-sigmoid(z)) if derivative else sigmoid(z)\n",
        "      # if derivative: return sigmoid(z)*(1-sigmoid(z))\n",
        "      # else: return sigmoid(z)\n",
        "    elif(self.activation==\"tanh\"):\n",
        "      return 1-np.square(tanh(z)) if derivative else tanh(z)\n",
        "      # if derivative: return 1-np.square(tanh(z))\n",
        "      # else: return tanh(z)\n",
        "    elif(self.activation==\"relu\"):\n",
        "      return 1*(z>0) if derivative else relu(z)\n",
        "      # if derivative: return 1 * (z>0)\n",
        "      # else: return relu(z)\n",
        "    elif(self.activation==\"leaky-relu\"):\n",
        "      temp = 1*(z>0)\n",
        "      return (np.array(temp==0, dtype=float)*0.1+temp) if derivative else leaky_relu(z)\n",
        "      # if derivative:\n",
        "      #   return 1 if (z>0) else 0.1\n",
        "      # else: return leaky_relu(z)\n",
        "    else:\n",
        "      print(\"invalid activation function\")\n",
        "      return None\n",
        "      \n",
        "  def forward_pass(self, x_train):\n",
        "    f1 = x_train # N x D\n",
        "    self.f_params = []\n",
        "    if(self.hidden_layer==0):\n",
        "      # input --> output\n",
        "      f2 = np.dot(f1, self.weights[0]) # N x C\n",
        "      f3 = softmax(f2) # N x C\n",
        "      self.f_params = [f1, f2, f3]\n",
        "      return f3\n",
        "\n",
        "    elif (self.hidden_layer==1):\n",
        "      # input --> first layer\n",
        "      f2 = np.dot(f1, self.weights[0]) # N x M\n",
        "      f3 = self.activation_function(f2) # N x M\n",
        "\n",
        "      # first layer --> output\n",
        "      f4 = np.dot(f3, self.weights[1]) # N x C\n",
        "      f5 = softmax(f4) # N x C\n",
        "      # print(\"f1\", f1[:3])\n",
        "      # print(\"f2\", f2[:3])\n",
        "      # print(\"f3\", f3[:3])\n",
        "      # print(\"f4\", f4[:3])\n",
        "      # print(\"f5\", f5[:3])\n",
        "      self.f_params = [f1, f2, f3, f4, f5]\n",
        "      return f5\n",
        "\n",
        "    elif (self.hidden_layer==2):\n",
        "      # input --> first layer\n",
        "      f2 = np.dot(f1, self.weights[0]) # N x M\n",
        "      f3 = self.activation_function(f2) # N x M\n",
        "\n",
        "      # first layer --> second layer\n",
        "      f4 = np.dot(f3, self.weights[1]) # N x M\n",
        "      f5 = self.activation_function(f4) # N x M\n",
        "\n",
        "      # second layer --> output\n",
        "      f6 = np.dot(f5, self.weights[2]) # N x C\n",
        "      f7 = softmax(f6) # N x C\n",
        "      self.f_params = [f1, f2, f3, f4, f5, f6, f7]\n",
        "      return f7\n",
        "    \n",
        "    else:\n",
        "      print(\"No forward pass\")\n",
        "      return None\n",
        "\n",
        "  \n",
        "  def back_prop(self, y_pred, y_train):\n",
        "    N = y_pred.shape[0]\n",
        "    b1 = y_pred-y_train # N x C\n",
        "    # print('y_pred', y_pred[:3])\n",
        "    # print('p_train', y_train[:3])\n",
        "    if(self.hidden_layer==0):\n",
        "      f1, f2, f3 = self.f_params\n",
        "\n",
        "      e1 = b1 * softmax_diff(f2) # N x C\n",
        "      b2 = np.dot(f1.T, e1)/N # D x C\n",
        "\n",
        "      return [b2]\n",
        "\n",
        "    elif (self.hidden_layer==1):\n",
        "      f1, f2, f3, f4, f5 = self.f_params\n",
        "      # print(\"b1\", b1[:3])\n",
        "      # print(\"f4\", f4[:3])\n",
        "      e1 = b1 * softmax_diff(f4) # N x C\n",
        "      b2 = np.dot(f3.T, e1)/N # M x C\n",
        "      # print(\"e1\", e1[:3])\n",
        "      # print(\"f3\", f3[:3])\n",
        "      # print(\"b2\", b2[:3])\n",
        "      b3 = np.dot(e1, self.weights[1].T) # N x M\n",
        "\n",
        "      e2 = self.activation_function(f2, derivative=True)\n",
        "      b4 = np.dot(f1.T, b3*e2)/N # D x M\n",
        "      # print(\"b4\", b4[:3])\n",
        "      # print(\"b2\", b2[:3])\n",
        "      return [b4, b2]\n",
        "\n",
        "    elif (self.hidden_layer==2):\n",
        "      f1, f2, f3, f4, f5, f6, f7 = self.f_params\n",
        "\n",
        "      e1 = b1 * softmax_diff(f6) # N x C\n",
        "      b2 = np.dot(f5.T, e1)/N # M x C\n",
        "\n",
        "      b3 = np.dot(e1, self.weights[2].T) # N x M\n",
        "\n",
        "      e2 = self.activation_function(f4, derivative=True) # N x M\n",
        "      b4 = np.dot((b3*e2).T, f3)/N # M x M\n",
        "\n",
        "      b5 = np.dot(b3*e2, self.weights[1].T) # N x M\n",
        "\n",
        "      e3 = self.activation_function(f2, derivative=True) # N x M\n",
        "      b6 = np.dot(f1.T, (b5*e3))/N # D x M\n",
        "\n",
        "      return [b6, b4, b2]\n",
        "    \n",
        "    else:\n",
        "      print(\"No backpropagation\")\n",
        "      return None\n",
        "  \n",
        "  def update_weights(self, dweights):\n",
        "    self.weights -= self.learning_rate * dweights\n",
        "\n",
        "  def predict(self, x_test):\n",
        "    yh = self.forward_pass(x_test)\n",
        "    return np.argmax(yh, axis=-1)\n",
        "\n",
        "  def eval_acc(self, y_pred, y_test):\n",
        "    acc = y_pred==y_test\n",
        "    # print(\"Prediction: 0 --> %d ; 1 --> %d ; 2 --> %d ; 3 --> %d ; 4 --> %d ; 5 --> %d ; 6 --> %d ; 7 --> %d ; 8 --> %d ; 9 --> %d\"  % (np.sum(y_pred == 0), np.sum(y_pred==1), np.sum(y_pred==2), np.sum(y_pred==3), np.sum(y_pred==4), np.sum(y_pred==5), np.sum(y_pred==6), np.sum(y_pred==7), np.sum(y_pred==8), np.sum(y_pred==9)))\n",
        "    return np.sum(acc)/len(y_test)\n",
        "    # return(np.mean((y_pred==y_test)))\n",
        "\n"
      ]
    },
    {
      "cell_type": "markdown",
      "source": [
        "# Cross-Validation and kFold Validation Testing"
      ],
      "metadata": {
        "id": "-7KDitu1Ou8B"
      }
    },
    {
      "cell_type": "code",
      "source": [
        "def cross_validation(x_train, y_train, L, i):\n",
        "  block = int(1/L * x_train.shape[0])\n",
        "  val_mask = np.zeros(x_train.shape[0], dtype=bool)\n",
        "  start = block*i\n",
        "  end = block*(i+1)\n",
        "  val_mask[start:end] = True # select validation set only\n",
        "  x_tr = x_train[val_mask]\n",
        "  y_tr = y_train[val_mask]\n",
        "  x_val = x_train[val_mask==False] # invert indices boolean to get train set\n",
        "  y_val = y_train[val_mask==False] # invert indices boolean to get train set\n",
        "  return x_tr, y_tr, x_val, y_val"
      ],
      "metadata": {
        "id": "Re-I47SjOug7"
      },
      "execution_count": 12,
      "outputs": []
    },
    {
      "cell_type": "code",
      "source": [
        "def kFoldCV(model, x, y, L):\n",
        "  train_acc, val_acc = [], []\n",
        "  for k in range(L):\n",
        "    x_train, y_train, x_val, y_val = cross_validation(x, y, L, k)\n",
        "    model.fit(x_train, y_train, 32)\n",
        "    y_val_pred = model.predict(x_val)\n",
        "    y_train_pred = model.predict(x_train)\n",
        "    train_acc.append(model.eval_acc(y_train_pred, y_train))\n",
        "    val_acc.append(model.eval_acc(y_val_pred, y_val))\n",
        "    print(\"%d/%d fold completed\" %(k+1,L))\n",
        "  print(\"Mean [training, validation] accuracy of [%.3f, %.3f]\" % \n",
        "        (np.mean(train_acc), np.mean(val_acc)))\n",
        "  return train_acc, val_acc\n"
      ],
      "metadata": {
        "id": "ld-Rq0nQVhnZ"
      },
      "execution_count": 13,
      "outputs": []
    },
    {
      "cell_type": "markdown",
      "metadata": {
        "id": "VItK1k56dvsZ"
      },
      "source": [
        "## Activation Function\n",
        "Sigmoid, ReLu, Leaky ReLu, tanh for intermediate layer \n",
        "\n",
        "Softmax and derivative for classification and gradient update"
      ]
    },
    {
      "cell_type": "code",
      "execution_count": 14,
      "metadata": {
        "id": "F-oYE_F6cu4E"
      },
      "outputs": [],
      "source": [
        "sigmoid = lambda z: 1./ (1 + np.exp(-z))\n",
        "\n",
        "relu = lambda z: np.maximum(0, z)\n",
        "\n",
        "tanh = lambda z: np.tanh(z)\n",
        "\n",
        "leaky_relu = lambda z: np.maximum(0.1*z, z)\n",
        "\n",
        "# prevent overflow in exponential using z.max()\n",
        "softmax = lambda z: np.exp(z-z.max()) / np.sum(np.exp(z-z.max()), axis = -1)[:, None] \n",
        "softmax_diff = lambda z: softmax(z)*(1-softmax(z))\n"
      ]
    },
    {
      "cell_type": "markdown",
      "metadata": {
        "id": "3N4SfaBsfX4C"
      },
      "source": [
        "# Main Body of Code\n",
        "## Importing Data and normalization"
      ]
    },
    {
      "cell_type": "code",
      "execution_count": 15,
      "metadata": {
        "colab": {
          "base_uri": "https://localhost:8080/"
        },
        "id": "pwHaJAg0Iwp4",
        "outputId": "7f43d12e-0c4e-4d19-ca8a-bcedf0690e63"
      },
      "outputs": [
        {
          "output_type": "stream",
          "name": "stdout",
          "text": [
            "Train image shape:  (60000, 28, 28)\n",
            "Train label shape:  (60000,)\n",
            "\n",
            "Test image shape:  (10000, 28, 28)\n",
            "Test label shape:  (10000,)\n"
          ]
        }
      ],
      "source": [
        "mnist_dataset = tf.keras.datasets.fashion_mnist\n",
        "(train_images, train_labels), (test_images, test_labels) = mnist_dataset.load_data()\n",
        "\n",
        "print(\"Train image shape: \", train_images.shape)\n",
        "print(\"Train label shape: \", train_labels.shape)\n",
        "print(\"\\nTest image shape: \", test_images.shape)\n",
        "print(\"Test label shape: \", test_labels.shape)\n",
        "\n",
        "# normalize pixel values to domain of 0 and 1\n",
        "x_train = train_images/255\n",
        "y_train = train_labels\n",
        "\n",
        "x_test = test_images/255\n",
        "y_test = test_labels\n",
        "\n",
        "#vectorize the images\n",
        "x_train = x_train.reshape(x_train.shape[0], -1)\n",
        "x_test = x_test.reshape(x_test.shape[0], -1)\n",
        "\n",
        "fraction = 0.10 # 10% validation and 90% training set\n",
        "\n",
        "x_train = x_train[:int(x_train.shape[0]*fraction)]\n",
        "y_train = y_train[:int(y_train.shape[0]*fraction)]\n",
        "\n",
        "x_test = x_test[:int(x_test.shape[0]*fraction)]\n",
        "y_test = y_test[:int(y_test.shape[0]*fraction)]"
      ]
    },
    {
      "cell_type": "code",
      "execution_count": 24,
      "metadata": {
        "colab": {
          "base_uri": "https://localhost:8080/",
          "height": 480
        },
        "id": "SECVORJh-VnZ",
        "outputId": "61e5b8be-88a4-430f-a1fc-69bb221a389c"
      },
      "outputs": [
        {
          "output_type": "stream",
          "name": "stderr",
          "text": [
            "/usr/local/lib/python3.7/dist-packages/ipykernel_launcher.py:23: VisibleDeprecationWarning: Creating an ndarray from ragged nested sequences (which is a list-or-tuple of lists-or-tuples-or ndarrays with different lengths or shapes) is deprecated. If you meant to do this, you must specify 'dtype=object' when creating the ndarray.\n",
            "/usr/local/lib/python3.7/dist-packages/ipykernel_launcher.py:53: VisibleDeprecationWarning: Creating an ndarray from ragged nested sequences (which is a list-or-tuple of lists-or-tuples-or ndarrays with different lengths or shapes) is deprecated. If you meant to do this, you must specify 'dtype=object' when creating the ndarray.\n"
          ]
        },
        {
          "output_type": "stream",
          "name": "stdout",
          "text": [
            "1/5 fold completed\n",
            "2/5 fold completed\n",
            "3/5 fold completed\n",
            "4/5 fold completed\n",
            "5/5 fold completed\n",
            "Mean [training, validation] accuracy of [0.985, 0.835]\n"
          ]
        },
        {
          "output_type": "display_data",
          "data": {
            "text/plain": [
              "<Figure size 432x288 with 1 Axes>"
            ],
            "image/png": "[encoded data removed]"
          },
          "metadata": {
            "needs_background": "light"
          }
        },
        {
          "output_type": "stream",
          "name": "stdout",
          "text": [
            "[0.9883333333333333, 0.9766666666666667, 0.9833333333333333, 0.99, 0.9866666666666667]\n",
            "[0.7877083333333333, 0.8289583333333334, 0.8375, 0.8485416666666666, 0.8733333333333333]\n"
          ]
        }
      ],
      "source": [
        "model = MLP(x_test.shape[1], np.max(y_test)+1, activation=\"leaky-relu\", hidden_layer=1)\n",
        "x_train_acc, x_val_acc = kFoldCV(model, x_train, y_train, 5)\n",
        "plt.plot(np.arange(5)+1, x_train_acc, linewidth=2, color='green', label=\"Training\")\n",
        "plt.plot(np.arange(5)+1, x_val_acc, linewidth=2, color='blue', label=\"Validation\")\n",
        "plt.xlabel(\"kFold\")\n",
        "plt.ylabel(\"Accuracy\")\n",
        "plt.show()\n",
        "print(x_train_acc)\n",
        "print(x_val_acc)\n",
        "# mlp.fit(x_train, y_train)\n",
        "# yh = mlp.predict(x_test)\n",
        "# print(\"\")\n",
        "# print(\"Accuracy of validation data: \", 100*mlp.eval_acc(yh, y_test), \"%\")\n"
      ]
    },
    {
      "cell_type": "markdown",
      "source": [
        "TEST AREA"
      ],
      "metadata": {
        "id": "GDIW7NXRT7oH"
      }
    },
    {
      "cell_type": "code",
      "source": [
        "# dweights = [[2,3], [1,2], [1,1]]\n",
        "# print(len(dweights))\n",
        "# dweights = np.array([1,1])\n",
        "# norm = np.linalg.norm(dweights) if dweights.ndim==1 else [np.linalg.norm(g) for g in dweights]\n",
        "# norm = [np.linalg.norm(g) for g in array[2]]\n",
        "# print(norm)\n",
        "# print(\"%\")\n",
        "xtick = np.arange(5)+1\n",
        "print(xtick)"
      ],
      "metadata": {
        "id": "PlBvNR8dT7EN"
      },
      "execution_count": null,
      "outputs": []
    }
  ],
  "metadata": {
    "colab": {
      "collapsed_sections": [
        "VItK1k56dvsZ"
      ],
      "name": "Group 18 - Miniproject 3.ipynb",
      "provenance": [],
      "authorship_tag": "ABX9TyOZTCTBH1DBAO5TIKG+E3d3",
      "include_colab_link": true
    },
    "kernelspec": {
      "display_name": "Python 3",
      "name": "python3"
    },
    "language_info": {
      "name": "python"
    }
  },
  "nbformat": 4,
  "nbformat_minor": 0
}