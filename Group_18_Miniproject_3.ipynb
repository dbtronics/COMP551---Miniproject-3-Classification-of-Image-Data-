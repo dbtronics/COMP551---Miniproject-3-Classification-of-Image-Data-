{
  "cells": [
    {
      "cell_type": "markdown",
      "metadata": {
        "id": "view-in-github",
        "colab_type": "text"
      },
      "source": [
        "<a href=\"https://colab.research.google.com/github/dbtronics/COMP551---Miniproject-3-Classification-of-Image-Data-/blob/main/Group_18_Miniproject_3.ipynb\" target=\"_parent\"><img src=\"https://colab.research.google.com/assets/colab-badge.svg\" alt=\"Open In Colab\"/></a>"
      ]
    },
    {
      "cell_type": "code",
      "execution_count": null,
      "metadata": {
        "id": "MskdeYqoN1C9"
      },
      "outputs": [],
      "source": [
        "import tensorflow as tf\n",
        "import numpy as np\n",
        "import matplotlib.pyplot as plt\n",
        "from sklearn.linear_model import LogisticRegression\n",
        "import math\n",
        "import pdb\n",
        "from tensorflow import keras\n",
        "import pandas as pd"
      ]
    },
    {
      "cell_type": "markdown",
      "metadata": {
        "id": "ccnXMmu82Kfc"
      },
      "source": [
        "# Multilayer Perceptron\n",
        "Multilayer Perceptron Implementation with built-in Gradient Descent optimizer in fit() method\n",
        "\n",
        "Implemention will take batch or individual sample units. It can be used with SGD or mini-batch SGD or batch GD. This needs to be mentioned in fit() with batch_size parameter.\n",
        "* If batch_size = N i.e. takes in all samples, then it is Batch Gradient Descent\n",
        "* If batch_size < N i.e. takes in some samples then it is Mini-Batch Gradient Descent\n",
        "* If batch_size = 1 i.e. takes in individual samples, then it is Stochastic Gradient Descent\n",
        "\n",
        "Assumes that all hidden layers have the SAME neurons"
      ]
    },
    {
      "cell_type": "code",
      "execution_count": null,
      "metadata": {
        "id": "Wmtl4tPwduk6"
      },
      "outputs": [],
      "source": [
        "class MLP:\n",
        "  def __init__ (self, input_neurons, output_neurons, hidden_layer=1, bias=False,\n",
        "               hidden_neurons=128,learning_rate=5e-3, activation=\"sigmoid\", dropout=False, dropout_percent=0.2):\n",
        "    # self.epochs = epochs\n",
        "    self.hidden_layer = hidden_layer\n",
        "    self.input_neurons = input_neurons\n",
        "    self.hidden_neurons = hidden_neurons\n",
        "    self.output_neurons = output_neurons\n",
        "    # self.batch_size = batch_size # decides on mini/batch stochastic gradiant descent\n",
        "    self.learning_rate = learning_rate\n",
        "    # self.epsilon = epsilon\n",
        "    self.activation = activation # decides on sigmoid, relu, leaky-relu, tanh activation\n",
        "    # no. of weights dependent on hidden_layers\n",
        "    self.weights = self.init_weights(self.hidden_layer) \n",
        "    # only activated if dropout is True\n",
        "    self.dropout = dropout\n",
        "    self.dropout_percent = dropout_percent\n",
        "    self.dropout_node = self.init_dropout(self.hidden_layer) if self.dropout else None\n",
        "    self.bias = bias\n",
        "    self.bh1 = 1 if self.bias else 0 # will only be implemented if user selected bias as True\n",
        "    self.bh2 = 1 if self.bias else 0 # will only be implemented if user selected bias as True\n",
        "    self.bout = 1 if self.bias else 0 # will only be implemented if user selected bias as True\n",
        "\n",
        "  def init_weights(self, hidden_layer):\n",
        "    if(hidden_layer==0):\n",
        "      w = np.random.randn(self.input_neurons, self.output_neurons) * np.sqrt(1./self.output_neurons)\n",
        "      return np.asarray([w])\n",
        "    elif (hidden_layer==1):\n",
        "      v = np.random.randn(self.input_neurons, self.hidden_neurons) * np.sqrt(1./self.hidden_neurons)\n",
        "      w = np.random.randn(self.hidden_neurons, self.output_neurons) * np.sqrt(1./self.output_neurons)\n",
        "      return np.asarray([v,w])\n",
        "    elif (hidden_layer==2):\n",
        "      v = np.random.randn(self.input_neurons, self.hidden_neurons) * np.sqrt(1./self.hidden_neurons)\n",
        "      r = np.random.randn(self.hidden_neurons, self.hidden_neurons) * np.sqrt(1./self.hidden_neurons)\n",
        "      w = np.random.randn(self.hidden_neurons, self.output_neurons) * np.sqrt(1./self.output_neurons)\n",
        "      return np.asarray([v,r,w])\n",
        "    else:\n",
        "      print(\"# of hidden layer should be <= 2\")\n",
        "      return None\n",
        "\n",
        "  def init_dropout(self, hidden_layer):\n",
        "    if(hidden_layer>0):\n",
        "      # d = np.random.rand(self.hidden_neurons)\n",
        "      # d = d<0.5 # clamps value to 0 and 1 only\n",
        "      random_index = np.random.permutation(self.hidden_neurons) # creates random index from 0 to M\n",
        "      drop = np.ones(self.hidden_neurons) # intialize dropout vector\n",
        "      drop[random_index[:int(self.hidden_neurons*self.dropout_percent)]] = 0 # dropout nodes on selective index\n",
        "      return drop\n",
        "    else: return None\n",
        "\n",
        "  def fit(self, x_train, y_train, batch_size, epochs=200, epsilon=5e-3,): # add batchsize here rather than in __init__\n",
        "    y_class = np.zeros((y_train.shape[0], np.max(y_train)+1))\n",
        "    for i in range(y_train.shape[0]): y_class[i,y_train[i]] = 1\n",
        "\n",
        "    batch_runs = math.ceil(y_train.shape[0]/batch_size)\n",
        "    \n",
        "    norm = np.array([np.inf])\n",
        "    t=0\n",
        "    while(np.any(norm>epsilon) and t<epochs):\n",
        "      # pdb.set_trace()\n",
        "      for batch_index in range(batch_runs): # batch_runs decides if it is mini-batch, stochastic or batch GD\n",
        "        start = batch_index*batch_size\n",
        "        end = (batch_index+1)*batch_size\n",
        "        x_train_batch = x_train[start:end] if end<=y_train.shape[0] else x_train[start:]\n",
        "        y_train_batch = y_class[start:end] if end<=y_train.shape[0] else y_class[start:] # N x C\n",
        "        y_train_label_batch = y_train[start:end] if end<=y_train.shape[0] else y_train[start:] # N\n",
        "        yh = self.forward_pass(x_train_batch)\n",
        "        dweights = self.back_prop(yh, y_train_batch)\n",
        "        self.update_weights(np.asarray(dweights))\n",
        "\n",
        "      # takes into account of 0 layer\n",
        "      norm = [np.linalg.norm(dweights)] if len(dweights)==1 else [np.linalg.norm(g) for g in dweights]\n",
        "      norm = np.array(norm)\n",
        "      # norm = [np.linalg.norm(g) for g in dweights]\n",
        "      # debug\n",
        "      # yh = self.forward_pass(x_train)\n",
        "      # print(\"Epoch: \", t, \" with accuracy of: \", self.eval_acc(np.argmax(yh, axis=-1), y_train))\n",
        "      # print(\"Epoch: \", t)\n",
        "      # print(\"Norm: \", norm)\n",
        "      t+=1\n",
        "\n",
        "  def activation_function(self, z, derivative=False):\n",
        "    if(self.activation==\"sigmoid\"):\n",
        "      return sigmoid(z)*(1-sigmoid(z)) if derivative else sigmoid(z)\n",
        "    elif(self.activation==\"tanh\"):\n",
        "      return 1-np.square(tanh(z)) if derivative else tanh(z)\n",
        "    elif(self.activation==\"relu\"):\n",
        "      return 1*(z>0) if derivative else relu(z)\n",
        "    elif(self.activation==\"leaky-relu\"):\n",
        "      temp = 1*(z>0)\n",
        "      return (np.array(temp==0, dtype=float)*0.1+temp) if derivative else leaky_relu(z)\n",
        "    else:\n",
        "      print(\"invalid activation function\")\n",
        "      return None\n",
        "      \n",
        "  def forward_pass(self, x_train):\n",
        "    f1 = x_train # N x D\n",
        "    self.f_params = []\n",
        "    if(self.hidden_layer==0): # no dropout here since it doesn't have hidden layer\n",
        "      # input --> output\n",
        "      f2 = np.dot(f1, self.weights[0]) + np.outer(self.bout*np.ones(x_train.shape[0]), np.ones(self.output_neurons)) # N x C\n",
        "      f3 = softmax(f2) # N x C\n",
        "      self.f_params = [f1, f2, f3]\n",
        "      return f3\n",
        "\n",
        "    elif (self.hidden_layer==1):\n",
        "      # input --> first layer\n",
        "      f2 = np.dot(f1, self.weights[0]) + np.outer(self.bh1*np.ones(x_train.shape[0]), np.ones(self.hidden_neurons)) # N x M\n",
        "      f3 = self.activation_function(f2) # N x M\n",
        "      #DROPOUT REGULARIZATION\n",
        "      f3 = f3*self.dropout_node if (self.dropout) else f3\n",
        "\n",
        "      # first layer --> output\n",
        "      f4 = np.dot(f3, self.weights[1]) + np.outer(self.bout*np.ones(x_train.shape[0]), np.ones(self.output_neurons)) # N x C\n",
        "      f5 = softmax(f4) # N x C\n",
        "      \n",
        "      self.f_params = [f1, f2, f3, f4, f5]\n",
        "      return f5\n",
        "\n",
        "    elif (self.hidden_layer==2):\n",
        "      # input --> first layer\n",
        "      f2 = np.dot(f1, self.weights[0]) + np.outer(self.bh1*np.ones(x_train.shape[0]), np.ones(self.hidden_neurons)) # N x M\n",
        "      f3 = self.activation_function(f2) # N x M\n",
        "      #DROPOUT REGULARIZATION\n",
        "      f3 = f3*self.dropout_node if (self.dropout) else f3\n",
        "\n",
        "      # first layer --> second layer\n",
        "      f4 = np.dot(f3, self.weights[1]) + np.outer(self.bh2*np.ones(x_train.shape[0]), np.ones(self.hidden_neurons)) # N x M\n",
        "      f5 = self.activation_function(f4) # N x M\n",
        "      #DROPOUT REGULARIZATION\n",
        "      f5 = f5*self.dropout_node if (self.dropout) else f5\n",
        "\n",
        "      # second layer --> output\n",
        "      f6 = np.dot(f5, self.weights[2]) + np.outer(self.bout*np.ones(x_train.shape[0]), np.ones(self.output_neurons)) # N x C\n",
        "      f7 = softmax(f6) # N x C\n",
        "      self.f_params = [f1, f2, f3, f4, f5, f6, f7]\n",
        "      return f7\n",
        "    \n",
        "    else:\n",
        "      print(\"No forward pass\")\n",
        "      return None\n",
        "\n",
        "  \n",
        "  def back_prop(self, y_pred, y_train):\n",
        "    N = y_pred.shape[0]\n",
        "    b1 = y_pred-y_train # N x C\n",
        "    b1 /= np.max(y_train)+1 # average out derivative of cost function\n",
        "    \n",
        "    if(self.hidden_layer==0): # No dropout here since it doesn't have a hidden layer\n",
        "      f1, f2, f3 = self.f_params\n",
        "\n",
        "      e1 = b1 * softmax_diff(f2) # N x C\n",
        "      b2 = np.dot(f1.T, e1)/N # D x C\n",
        "\n",
        "      if self.bias: self.bout -= self.learning_rate*np.mean(np.sum(e1, axis=-1)) # will only update if bias is set to True\n",
        "\n",
        "      return [b2]\n",
        "\n",
        "    elif (self.hidden_layer==1):\n",
        "      f1, f2, f3, f4, f5 = self.f_params\n",
        "      \n",
        "      e1 = b1 * softmax_diff(f4) # N x C\n",
        "      b2 = np.dot(f3.T, e1)/N # M x C\n",
        "      \n",
        "      b3 = np.dot(e1, self.weights[1].T) # N x M\n",
        "      # DROPOUT REGULARIZATION\n",
        "      b3 = b3*self.dropout_node if self.dropout else b3\n",
        "\n",
        "      e2 = self.activation_function(f2, derivative=True)\n",
        "      b4 = np.dot(f1.T, b3*e2)/N # D x M\n",
        "      \n",
        "      if self.bias: # will only update if bias is set to True\n",
        "        self.bout -= self.learning_rate*np.mean(np.sum(e1, axis=-1))\n",
        "        self.bh1 -= self.learning_rate*np.mean(np.sum(b3*e2, axis=-1))\n",
        "      return [b4, b2]\n",
        "\n",
        "    elif (self.hidden_layer==2):\n",
        "      f1, f2, f3, f4, f5, f6, f7 = self.f_params\n",
        "\n",
        "      e1 = b1 * softmax_diff(f6) # N x C\n",
        "      b2 = np.dot(f5.T, e1)/N # M x C\n",
        "\n",
        "      b3 = np.dot(e1, self.weights[2].T) # N x M\n",
        "      # DROPOUT REGULARIZATION\n",
        "      b3 = b3*self.dropout_node if self.dropout else b3\n",
        "\n",
        "      e2 = self.activation_function(f4, derivative=True) # N x M\n",
        "      b4 = np.dot((b3*e2).T, f3)/N # M x M\n",
        "\n",
        "      b5 = np.dot(b3*e2, self.weights[1].T) # N x M\n",
        "      # DROPOUT REGULARIZATION\n",
        "      b5 = b5*self.dropout_node if self.dropout else b5\n",
        "\n",
        "      e3 = self.activation_function(f2, derivative=True) # N x M\n",
        "      b6 = np.dot(f1.T, (b5*e3))/N # D x M\n",
        "\n",
        "      if self.bias: # will only update if bias is set to True\n",
        "        self.bout -= self.learning_rate*np.mean(np.sum(e1, axis=-1))\n",
        "        self.bh2 -= self.learning_rate*np.mean(np.sum(b3*e2, axis=-1))\n",
        "        self.bh1 -= self.learning_rate*np.mean(np.sum(b5*e3, axis=-1))\n",
        "      return [b6, b4, b2]\n",
        "    \n",
        "    else:\n",
        "      print(\"No backpropagation\")\n",
        "      return None\n",
        "  \n",
        "  def update_weights(self, dweights):\n",
        "    self.weights -= self.learning_rate * dweights\n",
        "\n",
        "  def predict(self, x_test):\n",
        "    yh = self.forward_pass(x_test)\n",
        "    return np.argmax(yh, axis=-1)\n",
        "\n",
        "  def eval_acc(self, y_pred, y_test):\n",
        "    acc = y_pred==y_test\n",
        "    return np.sum(acc)/len(y_test)\n",
        "\n"
      ]
    },
    {
      "cell_type": "markdown",
      "metadata": {
        "id": "VItK1k56dvsZ"
      },
      "source": [
        "## Activation Function\n",
        "Sigmoid, ReLu, Leaky ReLu, tanh for intermediate layer \n",
        "\n",
        "Softmax and derivative for classification and gradient update"
      ]
    },
    {
      "cell_type": "code",
      "execution_count": null,
      "metadata": {
        "id": "F-oYE_F6cu4E"
      },
      "outputs": [],
      "source": [
        "sigmoid = lambda z: 1./ (1 + np.exp(-z))\n",
        "\n",
        "relu = lambda z: np.maximum(0, z)\n",
        "\n",
        "tanh = lambda z: np.tanh(z)\n",
        "\n",
        "leaky_relu = lambda z: np.maximum(0.1*z, z)\n",
        "\n",
        "# prevent overflow in exponential using z.max()\n",
        "softmax = lambda z: np.exp(z-z.max()) / np.sum(np.exp(z-z.max()), axis = -1)[:, None] \n",
        "softmax_diff = lambda z: softmax(z)*(1-softmax(z))\n"
      ]
    },
    {
      "cell_type": "markdown",
      "metadata": {
        "id": "-7KDitu1Ou8B"
      },
      "source": [
        "# Cross-Validation and kFold Validation Testing"
      ]
    },
    {
      "cell_type": "code",
      "execution_count": null,
      "metadata": {
        "id": "Re-I47SjOug7"
      },
      "outputs": [],
      "source": [
        "def cross_validation(x_train, y_train, L, i):\n",
        "  block = int(1/L * x_train.shape[0])\n",
        "  val_mask = np.zeros(x_train.shape[0], dtype=bool)\n",
        "  start = block*i\n",
        "  end = block*(i+1)\n",
        "  val_mask[start:end] = True # select validation set only\n",
        "  x_tr = x_train[val_mask]\n",
        "  y_tr = y_train[val_mask]\n",
        "  x_val = x_train[val_mask==False] # invert indices boolean to get train set\n",
        "  y_val = y_train[val_mask==False] # invert indices boolean to get train set\n",
        "  return x_tr, y_tr, x_val, y_val"
      ]
    },
    {
      "cell_type": "code",
      "execution_count": null,
      "metadata": {
        "id": "ld-Rq0nQVhnZ"
      },
      "outputs": [],
      "source": [
        "def kFoldCV(model, x, y, L, batch_size):\n",
        "  train_acc, val_acc = [], []\n",
        "  for k in range(L):\n",
        "    x_train, y_train, x_val, y_val = cross_validation(x, y, L, k)\n",
        "    model.fit(x_train, y_train, batch_size)\n",
        "    y_val_pred = model.predict(x_val)\n",
        "    y_train_pred = model.predict(x_train)\n",
        "    train_acc.append(model.eval_acc(y_train_pred, y_train))\n",
        "    val_acc.append(model.eval_acc(y_val_pred, y_val))\n",
        "    print(\"%d/%d fold completed\" %(k+1,L))\n",
        "  print(\"Mean [training, validation] accuracy of [%.3f, %.3f]\" % \n",
        "        (np.mean(train_acc), np.mean(val_acc)))\n",
        "  return train_acc, val_acc\n"
      ]
    },
    {
      "cell_type": "markdown",
      "metadata": {
        "id": "3N4SfaBsfX4C"
      },
      "source": [
        "# Main Body of Code\n",
        "## Importing Data and normalization\n",
        "* Normalization from [0, 255] --> [0, 1]\n",
        "* Important to reduce overflow in exponent operation"
      ]
    },
    {
      "cell_type": "code",
      "execution_count": null,
      "metadata": {
        "colab": {
          "base_uri": "https://localhost:8080/"
        },
        "id": "pwHaJAg0Iwp4",
        "outputId": "b04c62e2-1a8c-4aa4-fd35-b63f887092b2"
      },
      "outputs": [
        {
          "output_type": "stream",
          "name": "stdout",
          "text": [
            "Train image shape:  (60000, 28, 28)\n",
            "Train label shape:  (60000,)\n",
            "\n",
            "Test image shape:  (10000, 28, 28)\n",
            "Test label shape:  (10000,)\n"
          ]
        }
      ],
      "source": [
        "mnist_dataset = tf.keras.datasets.fashion_mnist\n",
        "(train_images, train_labels), (test_images, test_labels) = mnist_dataset.load_data()\n",
        "\n",
        "print(\"Train image shape: \", train_images.shape)\n",
        "print(\"Train label shape: \", train_labels.shape)\n",
        "print(\"\\nTest image shape: \", test_images.shape)\n",
        "print(\"Test label shape: \", test_labels.shape)\n",
        "\n",
        "# normalize pixel values to domain of 0 and 1\n",
        "x_train = train_images/255.0\n",
        "y_train = train_labels\n",
        "\n",
        "x_test = test_images/255.0\n",
        "y_test = test_labels\n",
        "\n",
        "#vectorize the images\n",
        "x_train = x_train.reshape(x_train.shape[0], -1)\n",
        "x_test = x_test.reshape(x_test.shape[0], -1)\n",
        "\n",
        "fraction = 1.0\n",
        "\n",
        "x_train = x_train[:int(x_train.shape[0]*fraction)]\n",
        "y_train = y_train[:int(y_train.shape[0]*fraction)]\n",
        "\n",
        "x_test = x_test[:int(x_test.shape[0]*fraction)]\n",
        "y_test = y_test[:int(y_test.shape[0]*fraction)]"
      ]
    },
    {
      "cell_type": "markdown",
      "metadata": {
        "id": "Zxmq50bzOLgk"
      },
      "source": [
        "## Selecting optimal training data for optimal performance on test set\n",
        "\n",
        "* Performance metric is based on accuracy on validation set\n",
        "* Using k=3 in KFoldCV for cross-validation testing (constant)\n",
        "* Using batch_size of 50 for Mini-Batch Gradient Descent (constant)\n",
        "* Using 1 hidden layer MLP (constant)\n",
        "\n"
      ]
    },
    {
      "cell_type": "code",
      "execution_count": null,
      "metadata": {
        "colab": {
          "base_uri": "https://localhost:8080/",
          "height": 742
        },
        "id": "dVyDFtL-OZYY",
        "outputId": "a8de14e8-9381-45b3-90d0-d2e0113146f1"
      },
      "outputs": [
        {
          "output_type": "stream",
          "name": "stderr",
          "text": [
            "/usr/local/lib/python3.7/dist-packages/ipykernel_launcher.py:31: VisibleDeprecationWarning: Creating an ndarray from ragged nested sequences (which is a list-or-tuple of lists-or-tuples-or ndarrays with different lengths or shapes) is deprecated. If you meant to do this, you must specify 'dtype=object' when creating the ndarray.\n",
            "/usr/local/lib/python3.7/dist-packages/ipykernel_launcher.py:76: VisibleDeprecationWarning: Creating an ndarray from ragged nested sequences (which is a list-or-tuple of lists-or-tuples-or ndarrays with different lengths or shapes) is deprecated. If you meant to do this, you must specify 'dtype=object' when creating the ndarray.\n"
          ]
        },
        {
          "output_type": "stream",
          "name": "stdout",
          "text": [
            "1/3 fold completed\n",
            "2/3 fold completed\n",
            "3/3 fold completed\n",
            "Mean [training, validation] accuracy of [0.795, 0.758]\n",
            "5 percent test fraction completed with mean accuracy of 0.758\n",
            "1/3 fold completed\n",
            "2/3 fold completed\n",
            "3/3 fold completed\n",
            "Mean [training, validation] accuracy of [0.833, 0.803]\n",
            "10 percent test fraction completed with mean accuracy of 0.803\n",
            "1/3 fold completed\n",
            "2/3 fold completed\n",
            "3/3 fold completed\n",
            "Mean [training, validation] accuracy of [0.834, 0.805]\n",
            "15 percent test fraction completed with mean accuracy of 0.805\n",
            "1/3 fold completed\n",
            "2/3 fold completed\n",
            "3/3 fold completed\n",
            "Mean [training, validation] accuracy of [0.849, 0.822]\n",
            "20 percent test fraction completed with mean accuracy of 0.822\n"
          ]
        },
        {
          "output_type": "display_data",
          "data": {
            "text/plain": [
              "<Figure size 432x288 with 1 Axes>"
            ],
            "image/png": "[encoded data removed]"
          },
          "metadata": {
            "needs_background": "light"
          }
        },
        {
          "output_type": "stream",
          "name": "stdout",
          "text": [
            "\n",
            "0.20 fraction has the best performance\n",
            "\n"
          ]
        }
      ],
      "source": [
        "training_fraction = [0.05, 0.10, 0.15, 0.20] # looping from 5-20% of training data\n",
        "training_fraction_test_performance = np.zeros(len(training_fraction))\n",
        "best_training_fraction = 0\n",
        "\n",
        "for fr in range(len(training_fraction)):\n",
        "  x_train_fraction = x_train[:int(x_train.shape[0]*training_fraction[fr])]\n",
        "  y_train_fraction = y_train[:int(y_train.shape[0]*training_fraction[fr])]\n",
        "  model_1hl = MLP(x_test.shape[1], np.max(y_test)+1, activation = \"relu\", hidden_layer=1)\n",
        "  x_train_acc, x_val_acc = kFoldCV(model_1hl, x_train_fraction, y_train_fraction, 3, 50)\n",
        "  training_fraction_test_performance[fr] = np.mean(x_val_acc)\n",
        "  print(\"%d percent test fraction completed with mean accuracy of %.3f\"%\n",
        "        (int(training_fraction[fr]*100), training_fraction_test_performance[fr]))\n",
        "plt.bar([fr*100 for fr in training_fraction], [fr*100 for fr in training_fraction_test_performance], color='green')\n",
        "plt.xlabel(\"Percentage of Test Dataset\")\n",
        "plt.xticks([fr*100 for fr in training_fraction])\n",
        "plt.ylabel(\"Accuracy / %\")\n",
        "bottom = training_fraction_test_performance[np.argmin(training_fraction_test_performance)]*99\n",
        "top = training_fraction_test_performance[np.argmax(training_fraction_test_performance)]*101\n",
        "plt.ylim(bottom=bottom)\n",
        "plt.ylim(top=top)\n",
        "plt.show()\n",
        "best_training_fraction = training_fraction[np.argmax(training_fraction_test_performance)] # select best validation acc\n",
        "print(\"\\n%.2f fraction has the best performance\\n\" % best_training_fraction)"
      ]
    },
    {
      "cell_type": "markdown",
      "metadata": {
        "id": "m5MedX5iiODr"
      },
      "source": [
        "## Comparing Test Accuracy of 0, 1, and 2 Hidden Layers\n",
        "* With epsilon of 0.01\n",
        "* With learning rate of 0.005\n",
        "* With epoch of 200\n",
        "* With mini-batch gradient descent of 50\n",
        "* Activation = ReLU\n",
        "* Hidden Layer nodes = 128"
      ]
    },
    {
      "cell_type": "code",
      "execution_count": null,
      "metadata": {
        "colab": {
          "base_uri": "https://localhost:8080/",
          "height": 456
        },
        "id": "nUF_prCqjImc",
        "outputId": "bd870686-0e94-40db-bd81-f861f4a5b3f4"
      },
      "outputs": [
        {
          "output_type": "stream",
          "name": "stdout",
          "text": [
            "0 hidden layer completed with accuracy of 0.667\n"
          ]
        },
        {
          "output_type": "stream",
          "name": "stderr",
          "text": [
            "/usr/local/lib/python3.7/dist-packages/ipykernel_launcher.py:31: VisibleDeprecationWarning: Creating an ndarray from ragged nested sequences (which is a list-or-tuple of lists-or-tuples-or ndarrays with different lengths or shapes) is deprecated. If you meant to do this, you must specify 'dtype=object' when creating the ndarray.\n",
            "/usr/local/lib/python3.7/dist-packages/ipykernel_launcher.py:76: VisibleDeprecationWarning: Creating an ndarray from ragged nested sequences (which is a list-or-tuple of lists-or-tuples-or ndarrays with different lengths or shapes) is deprecated. If you meant to do this, you must specify 'dtype=object' when creating the ndarray.\n"
          ]
        },
        {
          "output_type": "stream",
          "name": "stdout",
          "text": [
            "1 hidden layer completed with accuracy of 0.816\n"
          ]
        },
        {
          "output_type": "stream",
          "name": "stderr",
          "text": [
            "/usr/local/lib/python3.7/dist-packages/ipykernel_launcher.py:36: VisibleDeprecationWarning: Creating an ndarray from ragged nested sequences (which is a list-or-tuple of lists-or-tuples-or ndarrays with different lengths or shapes) is deprecated. If you meant to do this, you must specify 'dtype=object' when creating the ndarray.\n"
          ]
        },
        {
          "output_type": "stream",
          "name": "stdout",
          "text": [
            "2 hidden layer completed with accuracy of 0.807\n"
          ]
        },
        {
          "output_type": "display_data",
          "data": {
            "text/plain": [
              "<Figure size 432x288 with 1 Axes>"
            ],
            "image/png": "[encoded data removed]"
          },
          "metadata": {
            "needs_background": "light"
          }
        },
        {
          "output_type": "stream",
          "name": "stdout",
          "text": [
            "\n",
            "Best hidden layer of MLP is: 1\n"
          ]
        }
      ],
      "source": [
        "hidden_layer = [0, 1, 2]\n",
        "model_array = []\n",
        "layer_acc = np.zeros(len(hidden_layer))\n",
        "best_layer=0 # select the best out of layer_acc array\n",
        "x_train = x_train[:int(x_train.shape[0]*best_training_fraction)] # values retrieved from before testing\n",
        "y_train = y_train[:int(y_train.shape[0]*best_training_fraction)] # values retrieved from before testing\n",
        "\n",
        "for layer_index in range(len(hidden_layer)):\n",
        "  model = MLP(x_test.shape[1], np.max(y_test)+1, activation = \"relu\", hidden_layer=hidden_layer[layer_index])\n",
        "  model.fit(x_train, y_train, 50)\n",
        "  model_array.append(model)\n",
        "  yh = model.predict(x_test)\n",
        "  layer_acc[layer_index] = model.eval_acc(yh, y_test)\n",
        "  print(\"%d hidden layer completed with accuracy of %.3f\" %(hidden_layer[layer_index], layer_acc[layer_index]))\n",
        "best_layer = np.argmax(layer_acc)\n",
        "plt.bar(hidden_layer, [fr*100 for fr in layer_acc], color='green')\n",
        "plt.xlabel(\"# of hidden layer in MLP\")\n",
        "plt.xticks(hidden_layer)\n",
        "plt.ylabel(\"Accuracy / %\")\n",
        "plt.title(\"Hidden Layer Performance\")\n",
        "bottom = layer_acc[np.argmin(layer_acc)]*99\n",
        "top = layer_acc[np.argmax(layer_acc)]*101\n",
        "plt.ylim(bottom=bottom)\n",
        "plt.ylim(top=top)\n",
        "plt.show()\n",
        "print(\"\\nBest hidden layer of MLP is: %d\"%best_layer)"
      ]
    },
    {
      "cell_type": "markdown",
      "source": [
        "## Bias vs Non-Bias\n",
        "Using the best MLP hidden layer and training fraction from above\n",
        "\n",
        "***NOTE: DIFFERENCE BETWEEN BIAS AND NON-BIAS IS EXTREMELY SMALL (0.4%). SOMETIMES ONE IS GREATER THAN THE OTHER.***"
      ],
      "metadata": {
        "id": "I7G3az28WSMw"
      }
    },
    {
      "cell_type": "code",
      "source": [
        "bias_array = [False, True]\n",
        "bias_string = [\"Without Bias\", \"With Bias\"]\n",
        "bias_performance = np.zeros(len(bias_array))\n",
        "bias_bool = False # Default\n",
        "\n",
        "for bias_index in range(len(bias_array)):\n",
        "  model = MLP(x_test.shape[1], np.max(y_test)+1, activation = \"relu\", \n",
        "              hidden_layer=best_layer, bias=bias_array[bias_index])\n",
        "  x_train_acc, x_val_acc = kFoldCV(model, x_train_fraction, y_train_fraction, 3, 50)\n",
        "  # bias_performance[bias_index] = np.mean(x_val_acc)\n",
        "  yh = model.predict(x_test)\n",
        "  bias_performance[bias_index] = model.eval_acc(yh, y_test)\n",
        "  print(\"%s Completed with accuracy on test dataset: %.3f\" % (bias_string[bias_index], bias_performance[bias_index]))\n",
        "bias_bool = bias_array[np.argmax(bias_performance)]\n",
        "plt.bar(bias_string, [fr*100 for fr in bias_performance])\n",
        "plt.title(\"Bias vs Non-Bias Performance\")\n",
        "plt.xlabel(\"Bias\")\n",
        "plt.ylabel(\"Accuracy / %\")\n",
        "bottom = bias_performance[np.argmin(bias_performance)]*99.5\n",
        "top = bias_performance[np.argmax(bias_performance)]*100.5\n",
        "plt.ylim(bottom=bottom)\n",
        "plt.ylim(top=top)\n",
        "plt.show()\n",
        "print(\"\\nBias should be selected? \", bias_bool)"
      ],
      "metadata": {
        "colab": {
          "base_uri": "https://localhost:8080/",
          "height": 562
        },
        "id": "D4h6XFkgWm4I",
        "outputId": "9e9f8d51-b474-44ea-eaea-4a763226c3f4"
      },
      "execution_count": null,
      "outputs": [
        {
          "output_type": "stream",
          "name": "stderr",
          "text": [
            "/usr/local/lib/python3.7/dist-packages/ipykernel_launcher.py:31: VisibleDeprecationWarning: Creating an ndarray from ragged nested sequences (which is a list-or-tuple of lists-or-tuples-or ndarrays with different lengths or shapes) is deprecated. If you meant to do this, you must specify 'dtype=object' when creating the ndarray.\n",
            "/usr/local/lib/python3.7/dist-packages/ipykernel_launcher.py:76: VisibleDeprecationWarning: Creating an ndarray from ragged nested sequences (which is a list-or-tuple of lists-or-tuples-or ndarrays with different lengths or shapes) is deprecated. If you meant to do this, you must specify 'dtype=object' when creating the ndarray.\n"
          ]
        },
        {
          "output_type": "stream",
          "name": "stdout",
          "text": [
            "1/3 fold completed\n",
            "2/3 fold completed\n",
            "3/3 fold completed\n",
            "Mean [training, validation] accuracy of [0.845, 0.818]\n",
            "Without Bias Completed with accuracy on test dataset: 0.815\n",
            "1/3 fold completed\n",
            "2/3 fold completed\n",
            "3/3 fold completed\n",
            "Mean [training, validation] accuracy of [0.847, 0.815]\n",
            "With Bias Completed with accuracy on test dataset: 0.811\n"
          ]
        },
        {
          "output_type": "display_data",
          "data": {
            "text/plain": [
              "<Figure size 432x288 with 1 Axes>"
            ],
            "image/png": "[encoded data removed]"
          },
          "metadata": {
            "needs_background": "light"
          }
        },
        {
          "output_type": "stream",
          "name": "stdout",
          "text": [
            "\n",
            "Bias should be selected?  False\n"
          ]
        }
      ]
    },
    {
      "cell_type": "markdown",
      "metadata": {
        "id": "xGMRoS4Mn1be"
      },
      "source": [
        "## Comparing Test Accuracy with different Activation Function\n",
        "* Sigmoid\n",
        "* Relu\n",
        "* Leaky Relu\n",
        "* tanh\n",
        "\n",
        "Keeping the following parameters constant\n",
        "* Hidden layer neurons = 128 (default)\n",
        "* Number of hidden layers = 2\n",
        "* epochs = 200\n",
        "* epsilon and learning rate = 0.01 and 0.005\n",
        "* batch size of 50 for mini-batch GD"
      ]
    },
    {
      "cell_type": "code",
      "execution_count": null,
      "metadata": {
        "colab": {
          "base_uri": "https://localhost:8080/",
          "height": 456
        },
        "id": "IXC_QDwToiKM",
        "outputId": "06604e81-7ace-4383-dbbc-7bdae4211cf7"
      },
      "outputs": [
        {
          "output_type": "stream",
          "name": "stderr",
          "text": [
            "/usr/local/lib/python3.7/dist-packages/ipykernel_launcher.py:36: VisibleDeprecationWarning: Creating an ndarray from ragged nested sequences (which is a list-or-tuple of lists-or-tuples-or ndarrays with different lengths or shapes) is deprecated. If you meant to do this, you must specify 'dtype=object' when creating the ndarray.\n",
            "/usr/local/lib/python3.7/dist-packages/ipykernel_launcher.py:76: VisibleDeprecationWarning: Creating an ndarray from ragged nested sequences (which is a list-or-tuple of lists-or-tuples-or ndarrays with different lengths or shapes) is deprecated. If you meant to do this, you must specify 'dtype=object' when creating the ndarray.\n"
          ]
        },
        {
          "output_type": "stream",
          "name": "stdout",
          "text": [
            "sigmoid activation completed with accuracy of 0.472\n",
            "relu activation completed with accuracy of 0.811\n",
            "leaky-relu activation completed with accuracy of 0.813\n",
            "tanh activation completed with accuracy of 0.818\n"
          ]
        },
        {
          "output_type": "display_data",
          "data": {
            "text/plain": [
              "<Figure size 432x288 with 1 Axes>"
            ],
            "image/png": "[encoded data removed]"
          },
          "metadata": {
            "needs_background": "light"
          }
        },
        {
          "output_type": "stream",
          "name": "stdout",
          "text": [
            "\n",
            "Best activation function is tanh\n"
          ]
        }
      ],
      "source": [
        "activation_array = [\"sigmoid\", \"relu\", \"leaky-relu\", \"tanh\"]\n",
        "best_activation=\"\"\n",
        "act_acc = np.zeros(len(activation_array))\n",
        "for activation_index in range(len(activation_array)):\n",
        "  model = MLP(x_test.shape[1], np.max(y_test)+1, activation = activation_array[activation_index], hidden_layer=2, bias=bias_bool)\n",
        "  model.fit(x_train, y_train, 50)\n",
        "  yh = model.predict(x_test)\n",
        "  act_acc[activation_index] = model.eval_acc(yh, y_test)\n",
        "  print(\"%s activation completed with accuracy of %.3f\" % (activation_array[activation_index], act_acc[activation_index]))\n",
        "best_activation = activation_array[np.argmax(act_acc)]\n",
        "plt.bar(activation_array, [fr*100 for fr in act_acc], color=\"green\")\n",
        "plt.title(\"Activation Function Performance\")\n",
        "plt.xlabel(\"Activation Function\")\n",
        "plt.ylabel(\"Accuracy / %\")\n",
        "bottom = act_acc[np.argmin(act_acc)]*99\n",
        "top = act_acc[np.argmax(act_acc)]*101\n",
        "plt.ylim(bottom=bottom)\n",
        "plt.ylim(top=top)\n",
        "plt.show()\n",
        "print(\"\\nBest activation function is %s\" % best_activation)"
      ]
    },
    {
      "cell_type": "markdown",
      "source": [
        "## Dropout Regularization\n",
        "* Has tunable hyper-perimeter (dropout_percent)\n",
        "  * Hyper-parameter domain {0.05, 0.1, 0.15, 0.20, 0.25, 0.30, 0.35, 0.40, 0.45, 0.50}\n",
        "\n",
        "Following are parameter configuration:\n",
        "\n",
        "* Hidden layer neurons = 128 (default)\n",
        "* Number of hidden layers = 2\n",
        "* epochs = 200\n",
        "* epsilon and learning rate = 0.01 and 0.005\n",
        "* batch size of 50 for mini-batch GD\n",
        "* ReLU activation"
      ],
      "metadata": {
        "id": "zlOG3d1EGpc2"
      }
    },
    {
      "cell_type": "code",
      "source": [
        "dropout_percentage = [0.05, 0.10, 0.15, 0.20, 0.25, 0.30, 0.35, 0.40, 0.45, 0.50] # going from 5-50% dropout\n",
        "# dropout_performance = np.zeros(len(dropout_percentage))\n",
        "dropout_acc = np.zeros(len(dropout_percentage))\n",
        "best_dropout_percentage = 0\n",
        "\n",
        "for dropout_index in range(len(dropout_percentage)):\n",
        "  model = MLP(x_test.shape[1], np.max(y_test)+1, activation = \"relu\", hidden_layer=2,\n",
        "            dropout=True, dropout_percent=dropout_percentage[dropout_index], bias=bias_bool)\n",
        "  model.fit(x_train, y_train, 50)\n",
        "  yh = model.predict(x_test)\n",
        "  dropout_acc[dropout_index] = model.eval_acc(yh, y_test)\n",
        "  print(\"%.1f dropout percentage completed with accuracy of %.3f\" %\n",
        "        (int(dropout_percentage[dropout_index]*100), dropout_acc[dropout_index]))\n",
        "plt.bar([fr*100 for fr in dropout_percentage], [fr*100 for fr in dropout_acc], color=\"green\")\n",
        "plt.xticks([fr*100 for fr in dropout_percentage])\n",
        "plt.xlabel(\"Dropout Percentage\")\n",
        "plt.ylabel(\"Accuracy / %\")\n",
        "bottom = dropout_acc[np.argmin(dropout_acc)]*99\n",
        "top = dropout_acc[np.argmax(dropout_acc)]*101\n",
        "plt.ylim(bottom=bottom)\n",
        "plt.ylim(top=top)\n",
        "plt.show()\n",
        "best_dropout_percentage = dropout_percentage[np.argmax(dropout_acc)]\n",
        "print(\"\\nBest dropout percentage is %.1d\" % int(best_dropout_percentage*100))"
      ],
      "metadata": {
        "colab": {
          "base_uri": "https://localhost:8080/",
          "height": 546
        },
        "id": "M2b9DOONP0gv",
        "outputId": "bee24e12-2404-4400-f247-413a25cd1a51"
      },
      "execution_count": null,
      "outputs": [
        {
          "output_type": "stream",
          "name": "stderr",
          "text": [
            "/usr/local/lib/python3.7/dist-packages/ipykernel_launcher.py:36: VisibleDeprecationWarning: Creating an ndarray from ragged nested sequences (which is a list-or-tuple of lists-or-tuples-or ndarrays with different lengths or shapes) is deprecated. If you meant to do this, you must specify 'dtype=object' when creating the ndarray.\n",
            "/usr/local/lib/python3.7/dist-packages/ipykernel_launcher.py:76: VisibleDeprecationWarning: Creating an ndarray from ragged nested sequences (which is a list-or-tuple of lists-or-tuples-or ndarrays with different lengths or shapes) is deprecated. If you meant to do this, you must specify 'dtype=object' when creating the ndarray.\n"
          ]
        },
        {
          "output_type": "stream",
          "name": "stdout",
          "text": [
            "5.0 dropout percentage completed with accuracy of 0.808\n",
            "10.0 dropout percentage completed with accuracy of 0.811\n",
            "15.0 dropout percentage completed with accuracy of 0.797\n",
            "20.0 dropout percentage completed with accuracy of 0.807\n",
            "25.0 dropout percentage completed with accuracy of 0.810\n",
            "30.0 dropout percentage completed with accuracy of 0.809\n",
            "35.0 dropout percentage completed with accuracy of 0.794\n",
            "40.0 dropout percentage completed with accuracy of 0.785\n",
            "45.0 dropout percentage completed with accuracy of 0.798\n",
            "50.0 dropout percentage completed with accuracy of 0.787\n"
          ]
        },
        {
          "output_type": "display_data",
          "data": {
            "text/plain": [
              "<Figure size 432x288 with 1 Axes>"
            ],
            "image/png": "[encoded data removed]"
          },
          "metadata": {
            "needs_background": "light"
          }
        },
        {
          "output_type": "stream",
          "name": "stdout",
          "text": [
            "\n",
            "Best dropout percentage is 10\n"
          ]
        }
      ]
    },
    {
      "cell_type": "markdown",
      "source": [
        "## Convolutional Neural Network (CNN)\n",
        "* Using ***Adams*** optimizer compared to our ***Vanilla*** implementation\n",
        "* Using epoch of 5\n",
        "* Mini-Batch SGD with batch_size of 32"
      ],
      "metadata": {
        "id": "krAvz1B2beQn"
      }
    },
    {
      "cell_type": "code",
      "source": [
        "x_train_f = x_train.reshape((-1, 28, 28, 1))\n",
        "x_test_f = x_test.reshape((-1, 28, 28, 1))\n",
        "\n",
        "model = tf.keras.Sequential([tf.keras.layers.Conv2D(32, (3,3), padding='same', activation=tf.nn.relu, input_shape=(28, 28, 1)),\n",
        "                             tf.keras.layers.Conv2D(64, (3,3), padding='same', activation=tf.nn.relu),\n",
        "                             tf.keras.layers.Flatten(),\n",
        "                             tf.keras.layers.Dense(128,activation=tf.nn.relu),\n",
        "                             tf.keras.layers.Dense(128,activation=tf.nn.relu),\n",
        "                             tf.keras.layers.Dense(10, activation=\"softmax\")\n",
        "])\n",
        "\n",
        "model.summary()\n",
        "\n",
        "print(\"\")\n",
        "\n",
        "model.compile(optimizer='adam',\n",
        "              loss='sparse_categorical_crossentropy',\n",
        "              metrics=['accuracy'])\n",
        "\n",
        "model.fit(x_train_f, y_train, epochs=5)\n",
        "model.evaluate(x_test_f,  y_test, verbose=2)"
      ],
      "metadata": {
        "colab": {
          "base_uri": "https://localhost:8080/"
        },
        "id": "SpClSWMgbel9",
        "outputId": "19189e5f-67d2-4434-9df0-d2ccd30d7d36"
      },
      "execution_count": null,
      "outputs": [
        {
          "output_type": "stream",
          "name": "stdout",
          "text": [
            "Model: \"sequential_2\"\n",
            "_________________________________________________________________\n",
            " Layer (type)                Output Shape              Param #   \n",
            "=================================================================\n",
            " conv2d_4 (Conv2D)           (None, 28, 28, 32)        320       \n",
            "                                                                 \n",
            " conv2d_5 (Conv2D)           (None, 28, 28, 64)        18496     \n",
            "                                                                 \n",
            " flatten_2 (Flatten)         (None, 50176)             0         \n",
            "                                                                 \n",
            " dense_6 (Dense)             (None, 128)               6422656   \n",
            "                                                                 \n",
            " dense_7 (Dense)             (None, 128)               16512     \n",
            "                                                                 \n",
            " dense_8 (Dense)             (None, 10)                1290      \n",
            "                                                                 \n",
            "=================================================================\n",
            "Total params: 6,459,274\n",
            "Trainable params: 6,459,274\n",
            "Non-trainable params: 0\n",
            "_________________________________________________________________\n",
            "\n",
            "Epoch 1/5\n",
            "375/375 [==============================] - 52s 138ms/step - loss: 0.5244 - accuracy: 0.8157\n",
            "Epoch 2/5\n",
            "375/375 [==============================] - 51s 135ms/step - loss: 0.3103 - accuracy: 0.8856\n",
            "Epoch 3/5\n",
            "375/375 [==============================] - 51s 137ms/step - loss: 0.2217 - accuracy: 0.9193\n",
            "Epoch 4/5\n",
            "375/375 [==============================] - 51s 137ms/step - loss: 0.1616 - accuracy: 0.9408\n",
            "Epoch 5/5\n",
            "375/375 [==============================] - 52s 138ms/step - loss: 0.1053 - accuracy: 0.9603\n",
            "313/313 - 10s - loss: 0.4300 - accuracy: 0.8750 - 10s/epoch - 30ms/step\n"
          ]
        },
        {
          "output_type": "execute_result",
          "data": {
            "text/plain": [
              "[0.4300035536289215, 0.875]"
            ]
          },
          "metadata": {},
          "execution_count": 18
        }
      ]
    },
    {
      "cell_type": "markdown",
      "source": [
        "## Best Network Perimeters\n",
        "Based on previous results, the optimal perimeters are:\n",
        "* 15% Training Dataset\n",
        "* tanh Activation\n",
        "* Dropout percentage of 20%\n",
        "* Hidden layer of 1\n",
        "* Bias included --> evaluated to ***FALSE*** (Based on result)\n",
        "\n",
        "Keeping following perimeter configuration\n",
        "* Hidden layer neurons = 128 (default)\n",
        "* epochs = 200\n",
        "* epsilon and learning rate = 0.01 and 0.005\n",
        "* batch size of 50 for mini-batch GD"
      ],
      "metadata": {
        "id": "pF_n0z-ecVvM"
      }
    },
    {
      "cell_type": "code",
      "source": [
        "optimal_model = MLP(x_train.shape[1], np.max(y_train)+1, activation=best_activation, \n",
        "                    dropout=True, dropout_percent=best_dropout_percentage, \n",
        "                    hidden_layer=best_layer, bias=bias_bool)\n",
        "optimal_model.fit(x_train, y_train, 50)\n",
        "y_train_pred = optimal_model.predict(x_train)\n",
        "y_test_pred = optimal_model.predict(x_test)\n",
        "print(\"Prediction complete and based on the optimal model, following are the accuracies:\\n\\n\")\n",
        "print(\"Training Dataset accuracy of %.2f\" % optimal_model.eval_acc(y_train_pred, y_train))\n",
        "print(\"Unseen Dataset accuracy of %.2f\" % optimal_model.eval_acc(y_test_pred, y_test))\n",
        "print(\"\\nBased on the following best network parameter\")\n",
        "print(\"# of Hidden Layer: \", best_layer)\n",
        "print(\"Activation Function: \", best_activation)\n",
        "print(\"Dropout Percentage: \", best_dropout_percentage*100)\n",
        "print(\"Bias: \", bias_bool)"
      ],
      "metadata": {
        "id": "ZS7Lw7j0dqli",
        "colab": {
          "base_uri": "https://localhost:8080/"
        },
        "outputId": "07825463-e822-48eb-d5fb-86bd3d6572e1"
      },
      "execution_count": null,
      "outputs": [
        {
          "output_type": "stream",
          "name": "stderr",
          "text": [
            "/usr/local/lib/python3.7/dist-packages/ipykernel_launcher.py:31: VisibleDeprecationWarning: Creating an ndarray from ragged nested sequences (which is a list-or-tuple of lists-or-tuples-or ndarrays with different lengths or shapes) is deprecated. If you meant to do this, you must specify 'dtype=object' when creating the ndarray.\n",
            "/usr/local/lib/python3.7/dist-packages/ipykernel_launcher.py:76: VisibleDeprecationWarning: Creating an ndarray from ragged nested sequences (which is a list-or-tuple of lists-or-tuples-or ndarrays with different lengths or shapes) is deprecated. If you meant to do this, you must specify 'dtype=object' when creating the ndarray.\n"
          ]
        },
        {
          "output_type": "stream",
          "name": "stdout",
          "text": [
            "Prediction complete and based on the optimal model, following are the accuracies:\n",
            "\n",
            "\n",
            "Training Dataset accuracy of 0.85\n",
            "Unseen Dataset accuracy of 0.82\n",
            "\n",
            "Based on the following best network parameter\n",
            "# of Hidden Layer:  1\n",
            "Activation Function:  tanh\n",
            "Dropout Percentage:  10.0\n",
            "Bias:  False\n"
          ]
        }
      ]
    },
    {
      "cell_type": "markdown",
      "source": [
        "## Training Network with Unnormalized Image\n",
        "Using different activation function with unnormalized images"
      ],
      "metadata": {
        "id": "hL5Fr_D2ViMZ"
      }
    },
    {
      "cell_type": "code",
      "source": [
        "# converting to unnormalized images by converting [0,1] --> [0,255]\n",
        "x_train *= 255.0\n",
        "x_test *= 255.0\n",
        "\n",
        "act_acc_unnorm = np.zeros(len(activation_array))\n",
        "\n",
        "# act_acc = np.zeros(len(activation_array))\n",
        "for activation_index in range(len(activation_array)):\n",
        "  model = MLP(x_test.shape[1], np.max(y_test)+1, activation = activation_array[activation_index], \n",
        "              hidden_layer=2, bias=bias_bool)\n",
        "  model.fit(x_train, y_train, 50)\n",
        "  yh = model.predict(x_test)\n",
        "  act_acc_unnorm[activation_index] = model.eval_acc(yh, y_test)\n",
        "  print(\"%s activation completed with accuracy of %.3f\" % (activation_array[activation_index], act_acc_unnorm[activation_index]))\n",
        "# best_activation = activation_array[np.argmax(act_acc)]\n",
        "plt.plot(activation_array, [fr*100 for fr in act_acc_unnorm], linewidth=2, color=\"blue\", label=\"Un-Normalized Images\")\n",
        "plt.bar(activation_array, [fr*100 for fr in act_acc], color=\"Green\", label=\"Normalized Images\")\n",
        "plt.legend(loc=\"upper left\")\n",
        "plt.title(\"Normalized vs Un-Normalized Images Comparison with Activation Function\")\n",
        "plt.xlabel(\"Activation Function\")\n",
        "plt.ylabel(\"Accuracy / %\")\n",
        "bottom = act_acc_unnorm[np.argmin(act_acc_unnorm)]*99\n",
        "top = act_acc[np.argmax(act_acc)]*101\n",
        "plt.ylim(bottom=bottom)\n",
        "plt.ylim(top=top)\n",
        "plt.show()"
      ],
      "metadata": {
        "colab": {
          "base_uri": "https://localhost:8080/",
          "height": 492
        },
        "id": "qDF8ahzjV8QT",
        "outputId": "acf33f83-4874-4e75-8f3c-0fc7857477bc"
      },
      "execution_count": null,
      "outputs": [
        {
          "output_type": "stream",
          "name": "stderr",
          "text": [
            "/usr/local/lib/python3.7/dist-packages/ipykernel_launcher.py:36: VisibleDeprecationWarning: Creating an ndarray from ragged nested sequences (which is a list-or-tuple of lists-or-tuples-or ndarrays with different lengths or shapes) is deprecated. If you meant to do this, you must specify 'dtype=object' when creating the ndarray.\n",
            "/usr/local/lib/python3.7/dist-packages/ipykernel_launcher.py:1: RuntimeWarning: overflow encountered in exp\n",
            "  \"\"\"Entry point for launching an IPython kernel.\n",
            "/usr/local/lib/python3.7/dist-packages/ipykernel_launcher.py:76: VisibleDeprecationWarning: Creating an ndarray from ragged nested sequences (which is a list-or-tuple of lists-or-tuples-or ndarrays with different lengths or shapes) is deprecated. If you meant to do this, you must specify 'dtype=object' when creating the ndarray.\n"
          ]
        },
        {
          "output_type": "stream",
          "name": "stdout",
          "text": [
            "sigmoid activation completed with accuracy of 0.666\n"
          ]
        },
        {
          "output_type": "stream",
          "name": "stderr",
          "text": [
            "/usr/local/lib/python3.7/dist-packages/ipykernel_launcher.py:10: RuntimeWarning: invalid value encountered in true_divide\n",
            "  # Remove the CWD from sys.path while we load stuff.\n"
          ]
        },
        {
          "output_type": "stream",
          "name": "stdout",
          "text": [
            "relu activation completed with accuracy of 0.100\n",
            "leaky-relu activation completed with accuracy of 0.100\n",
            "tanh activation completed with accuracy of 0.775\n"
          ]
        },
        {
          "output_type": "display_data",
          "data": {
            "text/plain": [
              "<Figure size 432x288 with 1 Axes>"
            ],
            "image/png": "[encoded data removed]"
          },
          "metadata": {
            "needs_background": "light"
          }
        }
      ]
    },
    {
      "cell_type": "markdown",
      "metadata": {
        "id": "GDIW7NXRT7oH"
      },
      "source": [
        "TEST AREA"
      ]
    },
    {
      "cell_type": "code",
      "source": [
        "# print(x_test[:3, 200:300])"
      ],
      "metadata": {
        "id": "C4YWb5_GJnUe"
      },
      "execution_count": null,
      "outputs": []
    },
    {
      "cell_type": "code",
      "execution_count": null,
      "metadata": {
        "id": "PlBvNR8dT7EN"
      },
      "outputs": [],
      "source": [
        "# fraction = 0.20\n",
        "\n",
        "# # x_test = x_test[:int(x_test.shape[0]*fraction)]\n",
        "# # y_test = y_test[:int(y_test.shape[0]*fraction)]\n",
        "\n",
        "# model = MLP(x_train.shape[1], np.max(y_train)+1, hidden_layer=1, activation=\"relu\", learning_rate=1e-2, bias=True)\n",
        "# model.fit(x_train, y_train, 50, epochs=20)\n",
        "# yh = model.predict(x_test)\n",
        "# print(model.eval_acc(yh, y_test))"
      ]
    }
  ],
  "metadata": {
    "colab": {
      "collapsed_sections": [
        "ccnXMmu82Kfc",
        "-7KDitu1Ou8B",
        "Zxmq50bzOLgk",
        "m5MedX5iiODr"
      ],
      "name": "Group 18 - Miniproject 3.ipynb",
      "provenance": [],
      "authorship_tag": "ABX9TyMSiBF2sz4CsJuEg4T3Zji1",
      "include_colab_link": true
    },
    "kernelspec": {
      "display_name": "Python 3",
      "name": "python3"
    },
    "language_info": {
      "name": "python"
    }
  },
  "nbformat": 4,
  "nbformat_minor": 0
}